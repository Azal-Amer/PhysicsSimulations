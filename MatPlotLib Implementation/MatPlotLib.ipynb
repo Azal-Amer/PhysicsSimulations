{
 "cells": [
  {
   "cell_type": "code",
   "execution_count": 1,
   "source": [
    "import numpy as np\r\n",
    "import matplotlib.pyplot as plt\r\n",
    "import mpl_toolkits.mplot3d.axes3d as p3\r\n",
    "import matplotlib.animation as animation\r\n",
    "\r\n",
    "def make_helix(n):\r\n",
    "    theta_max = 8 * np.pi\r\n",
    "    theta = np.linspace(0, theta_max, n)\r\n",
    "    x, y, z = theta, np.sin(theta), np.cos(theta)\r\n",
    "    helix = np.vstack((x, y, z))\r\n",
    "\r\n",
    "    return helix\r\n",
    "\r\n",
    "def update_lines(num, dataLines, lines) :\r\n",
    "    for line, data in zip(lines, dataLines) :\r\n",
    "        line.set_data(data[0:2, num-1:num])\r\n",
    "        line.set_3d_properties(data[2,num-1:num])\r\n",
    "    return lines\r\n",
    "\r\n",
    "# Attach 3D axis to the figure\r\n",
    "fig = plt.figure()\r\n",
    "ax = p3.Axes3D(fig)\r\n",
    "\r\n",
    "n = 100\r\n",
    "data = [make_helix(n)]\r\n",
    "\r\n",
    "lines = [ax.plot(data[0][0,0:1], data[0][1,0:1], data[0][2,0:1], 'o')[0]]\r\n",
    "\r\n",
    "# Setthe axes properties\r\n",
    "ax.set_xlim3d([0.0, 8*np.pi])\r\n",
    "ax.set_xlabel('X')\r\n",
    "\r\n",
    "ax.set_ylim3d([-1.0, 1.0])\r\n",
    "ax.set_ylabel('Y')\r\n",
    "\r\n",
    "ax.set_zlim3d([-1.0, 1.0])\r\n",
    "ax.set_zlabel('Z')\r\n",
    "\r\n",
    "ax.set_title('3D Test')\r\n",
    "\r\n",
    "# Creating the Animation object\r\n",
    "ani = animation.FuncAnimation(fig, update_lines, n, fargs=(data, lines),\r\n",
    "                              interval=50, blit=False)\r\n",
    "plt.show()\r\n"
   ],
   "outputs": [
    {
     "output_type": "error",
     "ename": "SyntaxError",
     "evalue": "invalid syntax (<ipython-input-1-cd31ad20fe30>, line 1)",
     "traceback": [
      "\u001b[1;36m  File \u001b[1;32m\"<ipython-input-1-cd31ad20fe30>\"\u001b[1;36m, line \u001b[1;32m1\u001b[0m\n\u001b[1;33m    def lorentz_deriv((x, y, z), t0, sigma=10., beta=8./3, rho=28.0):\u001b[0m\n\u001b[1;37m                      ^\u001b[0m\n\u001b[1;31mSyntaxError\u001b[0m\u001b[1;31m:\u001b[0m invalid syntax\n"
     ]
    }
   ],
   "metadata": {}
  }
 ],
 "metadata": {
  "orig_nbformat": 4,
  "language_info": {
   "name": "python",
   "version": "3.9.6",
   "mimetype": "text/x-python",
   "codemirror_mode": {
    "name": "ipython",
    "version": 3
   },
   "pygments_lexer": "ipython3",
   "nbconvert_exporter": "python",
   "file_extension": ".py"
  },
  "kernelspec": {
   "name": "python3",
   "display_name": "Python 3.9.6 64-bit"
  },
  "interpreter": {
   "hash": "03b31e0dbf5ee774e49906e1a4e99cf39d3bc46df0e15af7b9d16b1e9b24f047"
  }
 },
 "nbformat": 4,
 "nbformat_minor": 2
}