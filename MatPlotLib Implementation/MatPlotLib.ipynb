{
 "cells": [
  {
   "cell_type": "code",
   "execution_count": null,
   "source": [
    "import numpy as np\r\n",
    "import matplotlib.pyplot as plt\r\n",
    "import matplotlib.animation as animation\r\n",
    "\r\n",
    "fig, ax = plt.subplots()\r\n",
    "points, = ax.plot(np.random.rand(10), 'o')\r\n",
    "ax.set_ylim(0, 1)\r\n",
    "\r\n",
    "def update(data):\r\n",
    "    points.set_ydata(data)\r\n",
    "    return points,\r\n",
    "\r\n",
    "def generate_points():\r\n",
    "    while True:\r\n",
    "        yield np.random.rand(10)  # change this\r\n",
    "\r\n",
    "ani = animation.FuncAnimation(fig, update, generate_points, interval=300)\r\n",
    "plt.show()"
   ],
   "outputs": [
    {
     "output_type": "error",
     "ename": "SyntaxError",
     "evalue": "invalid syntax (<ipython-input-1-cd31ad20fe30>, line 1)",
     "traceback": [
      "\u001b[1;36m  File \u001b[1;32m\"<ipython-input-1-cd31ad20fe30>\"\u001b[1;36m, line \u001b[1;32m1\u001b[0m\n\u001b[1;33m    def lorentz_deriv((x, y, z), t0, sigma=10., beta=8./3, rho=28.0):\u001b[0m\n\u001b[1;37m                      ^\u001b[0m\n\u001b[1;31mSyntaxError\u001b[0m\u001b[1;31m:\u001b[0m invalid syntax\n"
     ]
    }
   ],
   "metadata": {}
  }
 ],
 "metadata": {
  "orig_nbformat": 4,
  "language_info": {
   "name": "python",
   "version": "3.9.6",
   "mimetype": "text/x-python",
   "codemirror_mode": {
    "name": "ipython",
    "version": 3
   },
   "pygments_lexer": "ipython3",
   "nbconvert_exporter": "python",
   "file_extension": ".py"
  },
  "kernelspec": {
   "name": "python3",
   "display_name": "Python 3.9.6 64-bit"
  },
  "interpreter": {
   "hash": "03b31e0dbf5ee774e49906e1a4e99cf39d3bc46df0e15af7b9d16b1e9b24f047"
  }
 },
 "nbformat": 4,
 "nbformat_minor": 2
}