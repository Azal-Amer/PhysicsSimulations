{
 "cells": [
  {
   "cell_type": "code",
   "execution_count": 1,
   "source": [
    "import time,math,random,json,os\r\n",
    "from math import remainder\r\n",
    "from math import cos,sin,pi\r\n",
    "from numpy import arange,array,empty\r\n",
    "import pandas as pd\r\n",
    "import matplotlib.pyplot as plt\r\n",
    "# Defining the particle class\r\n",
    "\r\n",
    "\r\n",
    "#Opening the cache\r\n",
    "cache = open(\"SpeedTesting.json\")\r\n",
    "world = {}\r\n",
    "\r\n",
    "world = json.loads(json.load(cache))\r\n",
    "\r\n",
    "count = world['Count']\r\n",
    "FrameCount = world['FrameCount']\r\n",
    "for n in range(count):\r\n",
    "   coordinates = (world[\"frames\"][0][n])\r\n",
    "   x = float(coordinates[0])\r\n",
    "   y = float(coordinates[1])\r\n",
    "   z = float(coordinates[2])\r\n",
    "   seed = random.randint(0,2)\r\n",
    "\r\n",
    "\r\n",
    "print(FrameCount)\r\n",
    "#    To modify the initial momentum vector, change the above value under vp.vector() to whatever force vector you can calculate\r\n",
    "averageMag = []\r\n",
    "for i in range(FrameCount):\r\n",
    "    magnitude = []\r\n",
    "    # each index here is the magnitude of the particle whose number is that index\r\n",
    "    for n in range(count):\r\n",
    "        # the x position of the particle is equal to the \"frame\"  'i' at the particle 'n's coordinates, at 0 in the coordinate array\r\n",
    "        # vp.s[n].pos.x = float(world[\"frames\"][str(i)][str(n)][0])\r\n",
    "        coordinates = (world[\"frames\"][i][n])\r\n",
    "        x=coordinates[0]\r\n",
    "        y=coordinates[1]\r\n",
    "        z=coordinates[2]\r\n",
    "        magnitude.append((x**2+y**2+z**2)**.5)\r\n",
    "        # print(\"the cordinates of particle\" + str(n) + ' at ' + str(i) + \" are : \" + str(coordinates))\r\n",
    "        total = 0\r\n",
    "    for j in magnitude:\r\n",
    "        total += j\r\n",
    "    average = total/count\r\n",
    "    averageMag.append(average)\r\n",
    "df = pd.DataFrame(averageMag)\r\n",
    "df.to_csv('sonification.csv',index = False,header = False)\r\n",
    "plt.plot(averageMag)\r\n",
    "plt.show()\r\n"
   ],
   "outputs": [
    {
     "output_type": "error",
     "ename": "FileNotFoundError",
     "evalue": "[Errno 2] No such file or directory: 'SpeedTesting.json'",
     "traceback": [
      "\u001b[1;31m---------------------------------------------------------------------------\u001b[0m",
      "\u001b[1;31mFileNotFoundError\u001b[0m                         Traceback (most recent call last)",
      "\u001b[1;32m<ipython-input-1-be52ef9dcd2c>\u001b[0m in \u001b[0;36m<module>\u001b[1;34m\u001b[0m\n\u001b[0;32m      9\u001b[0m \u001b[1;33m\u001b[0m\u001b[0m\n\u001b[0;32m     10\u001b[0m \u001b[1;31m#Opening the cache\u001b[0m\u001b[1;33m\u001b[0m\u001b[1;33m\u001b[0m\u001b[1;33m\u001b[0m\u001b[0m\n\u001b[1;32m---> 11\u001b[1;33m \u001b[0mcache\u001b[0m \u001b[1;33m=\u001b[0m \u001b[0mopen\u001b[0m\u001b[1;33m(\u001b[0m\u001b[1;34m\"SpeedTesting.json\"\u001b[0m\u001b[1;33m)\u001b[0m\u001b[1;33m\u001b[0m\u001b[1;33m\u001b[0m\u001b[0m\n\u001b[0m\u001b[0;32m     12\u001b[0m \u001b[0mworld\u001b[0m \u001b[1;33m=\u001b[0m \u001b[1;33m{\u001b[0m\u001b[1;33m}\u001b[0m\u001b[1;33m\u001b[0m\u001b[1;33m\u001b[0m\u001b[0m\n\u001b[0;32m     13\u001b[0m \u001b[1;33m\u001b[0m\u001b[0m\n",
      "\u001b[1;31mFileNotFoundError\u001b[0m: [Errno 2] No such file or directory: 'SpeedTesting.json'"
     ]
    }
   ],
   "metadata": {}
  },
  {
   "cell_type": "code",
   "execution_count": 7,
   "source": [
    "import math        #import needed modules\r\n",
    "import pyaudio\r\n",
    "PyAudio = pyaudio.PyAudio     #sudo apt-get install python-pyaudioPyAudio = pyaudio.PyAudio     #initialize pyaudio\r\n",
    "BITRATE = 1000  \r\n",
    "NUMBEROFFRAMES = len(averageMag)\r\n",
    "   #number of frames per second/frameset.py \r\n",
    "FREQUENCY = 10     #Hz, waves per second, 261.63=C4-note.\r\n",
    "LENGTH = BITRATE/NUMBEROFFRAMES\r\n",
    "if FREQUENCY > BITRATE:    #seconds to play soundif FREQUENCY > BITRATE:\r\n",
    "   BITRATE = FREQUENCY+100\r\n",
    "print(len(averageMag))\r\n",
    "RESTFRAMES = NUMBEROFFRAMES % BITRATE\r\n",
    "WAVEDATA = ''#generating waves\r\n",
    "for x in range(NUMBEROFFRAMES):\r\n",
    "     WAVEDATA = WAVEDATA+chr(int(averageMag[x]*1000))\r\n",
    "for x in range(RESTFRAMES):\r\n",
    "    WAVEDATA = WAVEDATA+chr(128)\r\n",
    "\r\n",
    "p = PyAudio()\r\n",
    "stream = p.open(format = p.get_format_from_width(1),channels =     2,rate = BITRATE,output = True)\r\n",
    "stream.write(WAVEDATA)\r\n",
    "stream.stop_stream()\r\n",
    "stream.close()\r\n",
    "p.terminate()"
   ],
   "outputs": [
    {
     "output_type": "stream",
     "name": "stdout",
     "text": [
      "3000\n"
     ]
    }
   ],
   "metadata": {}
  }
 ],
 "metadata": {
  "orig_nbformat": 4,
  "language_info": {
   "name": "python",
   "version": "3.9.6",
   "mimetype": "text/x-python",
   "codemirror_mode": {
    "name": "ipython",
    "version": 3
   },
   "pygments_lexer": "ipython3",
   "nbconvert_exporter": "python",
   "file_extension": ".py"
  },
  "kernelspec": {
   "name": "python3",
   "display_name": "Python 3.9.6 64-bit"
  },
  "interpreter": {
   "hash": "03b31e0dbf5ee774e49906e1a4e99cf39d3bc46df0e15af7b9d16b1e9b24f047"
  }
 },
 "nbformat": 4,
 "nbformat_minor": 2
}