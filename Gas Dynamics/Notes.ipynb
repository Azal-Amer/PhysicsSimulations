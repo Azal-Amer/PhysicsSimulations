{
 "cells": [
  {
   "cell_type": "markdown",
   "metadata": {},
   "source": [
    "# Grabbing a Random Point from a Non-Uniform Probability Distribution\n",
    "## Given a maxwell boltzman curve, this program will convert it into distribution weights and output the result.\n",
    "### To use, the value *T* is the average temprature\n",
    "### Adjust the value *size* depending on the location of the graph\n",
    "### Adjust the value *m* depending on the mass"
   ]
  },
  {
   "cell_type": "markdown",
   "metadata": {},
   "source": []
  },
  {
   "cell_type": "code",
   "execution_count": 3,
   "metadata": {},
   "outputs": [],
   "source": [
    "import matplotlib.pyplot as plt\n",
    "import numpy as np\n",
    "def randomMB(T,count):\n",
    "    pi = 3.1415\n",
    "    m = 1\n",
    "    # a_kg = 1.66054*(10**-27)\n",
    "    a_kg = 1\n",
    "\n",
    "    # k = 1.381*10**(-23)\n",
    "    k = 8.31\n",
    "\n",
    "    e = 2.71\n",
    "    size = 200\n",
    "    def maxwellBoltzMann(v):\n",
    "        exponent = (-((.5*m*a_kg*(v**2))/(k*T)))\n",
    "        term_1 = ((m*a_kg/(2*pi*k*T))**1.5)\n",
    "        curve = term_1*(4*pi*(v**2)*(e**exponent))\n",
    "        return curve\n",
    "    y = []\n",
    "\n",
    "    size = 200\n",
    "    x_c = np.linspace(0,size,num= round(.99*size))\n",
    "    # x_c = np.linspace(0,40000,num= 39820)\n",
    "    y = []\n",
    "    # Takes an input velocity and returns the probability distribution\n",
    "    for i in range(len(x_c)):\n",
    "        y.append(maxwellBoltzMann(x_c[i]))\n",
    "        # print(((-.5*m*(v**2))/(k*T)))\n",
    "    print(np.sum(y))\n",
    "    y[i] += 1-np.sum(y)\n",
    "    # the sum of y had to be equal to one, but due to computer rounding errors it wasn't. I picked an interpolation that provided just under 1, and then added the remainder to the end. This was filtered out later\n",
    "    # Above is the modelled curve\n",
    "    s = np.random.choice(x_c,p=y,size=count)\n",
    "    # Calculates the raw data\n",
    "    s = np.delete(s,np.where(s > size-100))\n",
    "    if len(s)<count:\n",
    "        difference = count - len(s)\n",
    "        while (difference != 0):\n",
    "            temp = np.random.choice(x_c,p=y,size=difference)\n",
    "            s = np.concatenate((s,temp))\n",
    "            difference = count - len(s)\n",
    "    # Filters out extraneous data from previous repair\n",
    "    x_c = x_c[:(len(x_c)-10)]\n",
    "    y= y[:(len(y)-10)]\n",
    "    return s,x_c,y\n",
    "\n",
    "# delete all particles with a velocity above 800\n",
    "# Objective- Turn this into a function that takes a temprature, and number of velocities, and returns an array with all those velocities. Due to the filtering, the program will need to run multiple times through the loop until it reaches only valid velocities"
   ]
  },
  {
   "cell_type": "code",
   "execution_count": 4,
   "metadata": {},
   "outputs": [
    {
     "name": "stdout",
     "output_type": "stream",
     "text": [
      "0.9895402414540226\n",
      "[ 4.06091371  8.12182741  7.10659898 ... 27.41116751 23.35025381\n",
      " 28.42639594]\n"
     ]
    },
    {
     "data": {
      "text/plain": [
       "<matplotlib.legend.Legend at 0x1bcff7e16a0>"
      ]
     },
     "execution_count": 4,
     "metadata": {},
     "output_type": "execute_result"
    },
    {
     "data": {
      "image/png": "[encoded data removed]",
      "text/plain": [
       "<Figure size 432x288 with 1 Axes>"
      ]
     },
     "metadata": {
      "needs_background": "light"
     },
     "output_type": "display_data"
    }
   ],
   "source": [
    "T = 40\n",
    "fig, ax = plt.subplots(1, 1)\n",
    "distribution =(randomMB(T,4000))\n",
    "plt.plot(distribution[1],distribution[2],label = 'Modelled Curve', color = 'b')\n",
    "count, bins, ignored = plt.hist(distribution[0], 25, density=True, label = 'Generated Data', color = 'cornflowerblue')\n",
    "print((distribution[0]))\n",
    "plt.xlabel('Velocity (m/s)')\n",
    "plt.ylabel('Probability Density')\n",
    "plt.title(\"Maxwell-Boltzmann Distribution At \" + str(T) + \" Kelvin\")\n",
    "plt.legend(loc = 'best')\n",
    "\n",
    "\n",
    "\n"
   ]
  }
 ],
 "metadata": {
  "interpreter": {
   "hash": "03b31e0dbf5ee774e49906e1a4e99cf39d3bc46df0e15af7b9d16b1e9b24f047"
  },
  "kernelspec": {
   "display_name": "Python 3.9.6 64-bit",
   "name": "python3"
  },
  "language_info": {
   "codemirror_mode": {
    "name": "ipython",
    "version": 3
   },
   "file_extension": ".py",
   "mimetype": "text/x-python",
   "name": "python",
   "nbconvert_exporter": "python",
   "pygments_lexer": "ipython3",
   "version": "3.9.6"
  },
  "orig_nbformat": 4
 },
 "nbformat": 4,
 "nbformat_minor": 2
}
